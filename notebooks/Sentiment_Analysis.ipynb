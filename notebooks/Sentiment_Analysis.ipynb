{
  "nbformat": 4,
  "nbformat_minor": 0,
  "metadata": {
    "colab": {
      "provenance": []
    },
    "kernelspec": {
      "name": "python3",
      "display_name": "Python 3"
    },
    "language_info": {
      "name": "python"
    }
  },
  "cells": [
    {
      "cell_type": "markdown",
      "source": [
        "#Análisis de sentimientos con Python"
      ],
      "metadata": {
        "id": "xBTdvdflMRFi"
      }
    },
    {
      "cell_type": "markdown",
      "source": [
        "El análisis de sentimientos, una herramienta esencial del procesamiento del lenguaje natural (PLN), se utiliza para evaluar textos digitales y determinar su tono emocional. Esta técnica clasifica el contenido en sentimientos positivos, negativos o neutros, proporcionando información valiosa sobre la opinión pública, las opiniones de los clientes, las tendencias del mercado y las percepciones en redes sociales.\n",
        "\n",
        "El análisis de sentimientos en Python desempeña un papel crucial al evaluar la polaridad y subjetividad de las palabras, proporcionando información clave que transforma la toma de decisiones en diversas industrias y revolucionando las estrategias basadas en datos."
      ],
      "metadata": {
        "id": "QH0Hv3o_MSo5"
      }
    },
    {
      "cell_type": "markdown",
      "source": [
        "## Analisis"
      ],
      "metadata": {
        "id": "AN8RmZDIMUzl"
      }
    },
    {
      "cell_type": "markdown",
      "source": [
        "Utilizaremos el dataset reviews_videogames de Kaggle para realizar el análisis"
      ],
      "metadata": {
        "id": "bRS0WDuzMfpx"
      }
    },
    {
      "cell_type": "markdown",
      "source": [
        "### Importar librerias"
      ],
      "metadata": {
        "id": "kOFZH3TrMk8p"
      }
    },
    {
      "cell_type": "code",
      "execution_count": null,
      "metadata": {
        "id": "RhEnysJMMJz0"
      },
      "outputs": [],
      "source": [
        "#\n",
        "import pandas as pd\n",
        "import nltk"
      ]
    }
  ]
}